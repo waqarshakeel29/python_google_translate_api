{
  "nbformat": 4,
  "nbformat_minor": 0,
  "metadata": {
    "colab": {
      "name": "Python_Google_Translate_API.ipynb",
      "provenance": [],
      "authorship_tag": "ABX9TyO2qYiColcfnJ6jo7cua35B",
      "include_colab_link": true
    },
    "kernelspec": {
      "name": "python3",
      "display_name": "Python 3"
    },
    "language_info": {
      "name": "python"
    }
  },
  "cells": [
    {
      "cell_type": "markdown",
      "metadata": {
        "id": "view-in-github",
        "colab_type": "text"
      },
      "source": [
        "<a href=\"https://colab.research.google.com/github/waqarshakeel29/python_google_translate_api/blob/main/Python_Google_Translate_API.ipynb\" target=\"_parent\"><img src=\"https://colab.research.google.com/assets/colab-badge.svg\" alt=\"Open In Colab\"/></a>"
      ]
    },
    {
      "cell_type": "code",
      "metadata": {
        "id": "HqTI0SWX434N",
        "colab": {
          "base_uri": "https://localhost:8080/"
        },
        "outputId": "ad517c34-dd54-4468-db57-cf550c4ce89a"
      },
      "source": [
        "!pip install googletrans==3.1.0a0\n",
        "from googletrans import Translator"
      ],
      "execution_count": null,
      "outputs": [
        {
          "output_type": "stream",
          "name": "stdout",
          "text": [
            "Collecting googletrans==3.1.0a0\n",
            "  Downloading googletrans-3.1.0a0.tar.gz (19 kB)\n",
            "Collecting httpx==0.13.3\n",
            "  Downloading httpx-0.13.3-py3-none-any.whl (55 kB)\n",
            "\u001b[K     |████████████████████████████████| 55 kB 3.4 MB/s \n",
            "\u001b[?25hRequirement already satisfied: chardet==3.* in /usr/local/lib/python3.7/dist-packages (from httpx==0.13.3->googletrans==3.1.0a0) (3.0.4)\n",
            "Requirement already satisfied: idna==2.* in /usr/local/lib/python3.7/dist-packages (from httpx==0.13.3->googletrans==3.1.0a0) (2.10)\n",
            "Requirement already satisfied: certifi in /usr/local/lib/python3.7/dist-packages (from httpx==0.13.3->googletrans==3.1.0a0) (2021.5.30)\n",
            "Collecting hstspreload\n",
            "  Downloading hstspreload-2021.11.1-py3-none-any.whl (1.3 MB)\n",
            "\u001b[K     |████████████████████████████████| 1.3 MB 41.4 MB/s \n",
            "\u001b[?25hCollecting httpcore==0.9.*\n",
            "  Downloading httpcore-0.9.1-py3-none-any.whl (42 kB)\n",
            "\u001b[K     |████████████████████████████████| 42 kB 1.3 MB/s \n",
            "\u001b[?25hCollecting sniffio\n",
            "  Downloading sniffio-1.2.0-py3-none-any.whl (10 kB)\n",
            "Collecting rfc3986<2,>=1.3\n",
            "  Downloading rfc3986-1.5.0-py2.py3-none-any.whl (31 kB)\n",
            "Collecting h2==3.*\n",
            "  Downloading h2-3.2.0-py2.py3-none-any.whl (65 kB)\n",
            "\u001b[K     |████████████████████████████████| 65 kB 4.2 MB/s \n",
            "\u001b[?25hCollecting h11<0.10,>=0.8\n",
            "  Downloading h11-0.9.0-py2.py3-none-any.whl (53 kB)\n",
            "\u001b[K     |████████████████████████████████| 53 kB 2.3 MB/s \n",
            "\u001b[?25hCollecting hpack<4,>=3.0\n",
            "  Downloading hpack-3.0.0-py2.py3-none-any.whl (38 kB)\n",
            "Collecting hyperframe<6,>=5.2.0\n",
            "  Downloading hyperframe-5.2.0-py2.py3-none-any.whl (12 kB)\n",
            "Building wheels for collected packages: googletrans\n",
            "  Building wheel for googletrans (setup.py) ... \u001b[?25l\u001b[?25hdone\n",
            "  Created wheel for googletrans: filename=googletrans-3.1.0a0-py3-none-any.whl size=16367 sha256=81d99de944e2041b30713ad49278c96c7b91f2d83356459a3898dd2ae2045689\n",
            "  Stored in directory: /root/.cache/pip/wheels/0c/be/fe/93a6a40ffe386e16089e44dad9018ebab9dc4cb9eb7eab65ae\n",
            "Successfully built googletrans\n",
            "Installing collected packages: hyperframe, hpack, sniffio, h2, h11, rfc3986, httpcore, hstspreload, httpx, googletrans\n",
            "Successfully installed googletrans-3.1.0a0 h11-0.9.0 h2-3.2.0 hpack-3.0.0 hstspreload-2021.11.1 httpcore-0.9.1 httpx-0.13.3 hyperframe-5.2.0 rfc3986-1.5.0 sniffio-1.2.0\n"
          ]
        }
      ]
    },
    {
      "cell_type": "code",
      "metadata": {
        "id": "vqIqddph9PKg"
      },
      "source": [
        "dic = {\n",
        "\n",
        "\"appointmentType\": \"Appointment Type\",\n",
        "    \"appointmentTypeSubtitle\": \"Select the appointment type from below\",\n",
        "    \"fixedTime\": \"Fixed Time\",\n",
        "    \"fixedTimeAppointment\": \"Fixed Time Appointment\",\n",
        "    \"fixedTimeAppointmentSubtitle\": \"You can select a fix time and service provider with Fix Type Appointment.\",\n",
        "    \"checkIn\": \"Check in\",\n",
        "    \"checkInAppointment\": \"Check in Appointment\",\n",
        "    \"checkInAppointmentSubtitle\": \"Tap here if you want to Check in and wait for your turn.\",\n",
        "    \"homeVisit\": \"Home Visit\",\n",
        "    \"homeVisitAppointment\": \"Home Visit Appointment\",\n",
        "    \"homeVisitAppointmentSubtitle\": \"You can select a fix time and service provider with Fix Type Appointment.\",\n",
        "    \"selectService\": \"Select Service\",\n",
        "    \"selectServiceSubtitle\": \"Fixed Time Appointment\",\n",
        "    \"selectMember\": \"Select Member\",\n",
        "    \"selectMemberSubtitle\": \"Select the available member to see available slots\",\n",
        "    \"personalDetails\": \"Personal Details\",\n",
        "    \"personalDetailsSubtitle\": \"Enter the details of the patient\",\n",
        "    \"week\": \"Week\",\n",
        "    \"month\": \"Month\",\n",
        "\n",
        "    \"firstName\": \"First name\",\n",
        "    \"middleName\": \"Middle Name\",\n",
        "    \"lastName\": \"Last name\",\n",
        "    \"emailAddress\": \"Email address\",\n",
        "    \"contactNumber\": \"Contact number\",\n",
        "    \"address\": \"Address\",\n",
        "\n",
        "    \"promoCode\": \"Promo code (optional)\",\n",
        "    \"customerName\": \"Contact Name\",\n",
        "    \"phoneNumber\": \"Phone number\",\n",
        "    \"appointmentDetails\": \"Appointment Details\",\n",
        "    \"appointmentDetailsSubtitle\": \"Please Verify your appointment details\",\n",
        "    \"serviceProvider\": \"Service Provider\",\n",
        "    \"date\": \"Date\",\n",
        "    \"time\": \"Time\",\n",
        "    \"undo\": \"Undo\",\n",
        "    \"next\": \"Next\",\n",
        "    \"back\": \"Back\",\n",
        "    \"view\": \"View\",\n",
        "    \"cancel\": \"Cancel\",\n",
        "    \"add\": \"Add\",\n",
        "    \"update\": \"Update\",\n",
        "    \"confirm\": \"Confirm\",\n",
        "    \"bookingConfirmed\": \"Booking Confirmed !\",\n",
        "    \"bookingConfirmedSubtitle\": \"A confirmation text has been sent to your phone number with appointment details.\",\n",
        "    \"bookingConfirmedCheckInSubtitle\": \"You have been added to the waiting list, Please wait for your turn and refer to your Id for status\",\n",
        "    \"order\": \"Order\",\n",
        "    \"onArrival\": \"On arrival\",\n",
        "    \"payNow\": \"Pay now\",\n",
        "    \"selectType\": \"Select Type\",\n",
        "    \"selectTypeSubtitle\": \"Select the appointment type\",\n",
        "    \"myList\": \"My List\",\n",
        "    \"myListSubtitle\": \"Keep your list updated\",\n",
        "    \"checkedinOnline\": \"Checked in Online\",\n",
        "    \"checkedinOnlineSubtitle\": \"Select the appointment type\",\n",
        "    \"addToQue\": \"Add to que\",\n",
        "    \"viewEdit\": \"View/Edit\",\n",
        "    \"inProgress\": \"In progress\",\n",
        "    \"inProgressSubtitle\": \"tap here if completed\",\n",
        "    \"waiting\": \"Waiting\",\n",
        "    \"startWork\": \"Start Work\",\n",
        "    \"startWorkSubtitle\": \"tap to start the work\",\n",
        "    \"shift\": \"Shift\",\n",
        "    \"nowServing\": \"Now Serving\",\n",
        "    \"shiftCustomer\": \"Shift Customer\",\n",
        "    \"noSlotConfigMessage\": \"ServiceProvider is in process of defining appointment services\",\n",
        "    \"requiredFieldMessage\": \"This field is required\",\n",
        "    \"phoneRequiredMessage\": \"Please enter a phone number\",\n",
        "    \"configureAppointmentsMsg\": \"You got to configure appointments.\",\n",
        "    \"list\": \"List\",\n",
        "    \"calendar\": \"Calendar\",\n",
        "\n",
        "}"
      ],
      "execution_count": null,
      "outputs": []
    },
    {
      "cell_type": "markdown",
      "metadata": {
        "id": "Z7uHKYZ-mqgv"
      },
      "source": [
        "# **TRANSLATE**"
      ]
    },
    {
      "cell_type": "code",
      "metadata": {
        "id": "xS1c8cOy9bpv"
      },
      "source": [
        "TRANSLATE_INTO_LANGUAGE = 'ur'\n",
        "\n",
        "lis = [k for x,k in dic.items()]\n",
        "translator = Translator()\n",
        "\n",
        "ur = []\n",
        "for i in lis:\n",
        "  translation = translator.translate(i, dest=TRANSLATE_INTO_LANGUAGE)\n",
        "  ur.append(translation.text)"
      ],
      "execution_count": null,
      "outputs": []
    },
    {
      "cell_type": "markdown",
      "metadata": {
        "id": "Y7KsQPHQmbrn"
      },
      "source": [
        "# Change into KEY-VALUE pair"
      ]
    },
    {
      "cell_type": "code",
      "metadata": {
        "colab": {
          "base_uri": "https://localhost:8080/"
        },
        "id": "xIMC2w38_6Xd",
        "outputId": "efe737fa-b1b1-4dcc-b623-8a8b279c38ee"
      },
      "source": [
        "\n",
        "\n",
        "keys = [key for key,value in dic.items()]\n",
        "print(keys[0])\n",
        "hindiDic = {}\n",
        "for i in range(0,len(keys)):\n",
        "  hindiDic[keys[i]] = ur[i]"
      ],
      "execution_count": null,
      "outputs": [
        {
          "output_type": "stream",
          "name": "stdout",
          "text": [
            "appointmentType\n"
          ]
        }
      ]
    },
    {
      "cell_type": "code",
      "metadata": {
        "colab": {
          "base_uri": "https://localhost:8080/"
        },
        "id": "I4yLikE6CIge",
        "outputId": "85c58142-fd37-4329-ceee-4a35f6af50ba"
      },
      "source": [
        "hindiDic"
      ],
      "execution_count": null,
      "outputs": [
        {
          "output_type": "execute_result",
          "data": {
            "text/plain": [
              "{'add': 'যোগ করুন',\n",
              " 'addToQue': 'কি যোগ করুন',\n",
              " 'address': 'ঠিকানা',\n",
              " 'appointmentDetails': 'অ্যাপয়েন্টমেন্টের বিবরণ',\n",
              " 'appointmentDetailsSubtitle': 'আপনার অ্যাপয়েন্টমেন্ট বিবরণ যাচাই করুন',\n",
              " 'appointmentType': 'অ্যাপয়েন্টমেন্টের ধরন',\n",
              " 'appointmentTypeSubtitle': 'নিচ থেকে অ্যাপয়েন্টমেন্টের ধরন নির্বাচন করুন',\n",
              " 'back': 'পেছনে',\n",
              " 'bookingConfirmed': 'বুকিং নিশ্চিত!',\n",
              " 'bookingConfirmedCheckInSubtitle': 'আপনাকে অপেক্ষমাণ তালিকায় যোগ করা হয়েছে, অনুগ্রহ করে আপনার পালা পর্যন্ত অপেক্ষা করুন এবং স্ট্যাটাসের জন্য আপনার আইডি দেখুন',\n",
              " 'bookingConfirmedSubtitle': 'অ্যাপয়েন্টমেন্টের বিবরণ সহ আপনার ফোন নম্বরে একটি নিশ্চিতকরণ পাঠ্য পাঠানো হয়েছে।',\n",
              " 'calendar': 'ক্যালেন্ডার',\n",
              " 'cancel': 'বাতিল করুন',\n",
              " 'checkIn': 'চেক ইন',\n",
              " 'checkInAppointment': 'অ্যাপয়েন্টমেন্ট চেক করুন',\n",
              " 'checkInAppointmentSubtitle': 'আপনি চেক ইন করতে চাইলে এখানে আলতো চাপুন এবং আপনার পালা পর্যন্ত অপেক্ষা করুন।',\n",
              " 'checkedinOnline': 'অনলাইন চেক ইন',\n",
              " 'checkedinOnlineSubtitle': 'অ্যাপয়েন্টমেন্টের ধরন নির্বাচন করুন',\n",
              " 'configureAppointmentsMsg': 'আপনাকে অ্যাপয়েন্টমেন্ট কনফিগার করতে হবে।',\n",
              " 'confirm': 'নিশ্চিত করুন',\n",
              " 'contactNumber': 'যোগাযোগের নম্বর',\n",
              " 'customerName': 'যোগাযোগের নাম',\n",
              " 'date': 'তারিখ',\n",
              " 'emailAddress': 'ইমেইল ঠিকানা',\n",
              " 'firstName': 'নামের প্রথম অংশ',\n",
              " 'fixedTime': 'নির্দিষ্ট সময়',\n",
              " 'fixedTimeAppointment': 'নির্দিষ্ট সময়ের অ্যাপয়েন্টমেন্ট',\n",
              " 'fixedTimeAppointmentSubtitle': 'আপনি ফিক্স টাইপ অ্যাপয়েন্টমেন্ট সহ একটি নির্দিষ্ট সময় এবং পরিষেবা প্রদানকারী নির্বাচন করতে পারেন।',\n",
              " 'homeVisit': 'হোম ভিজিট',\n",
              " 'homeVisitAppointment': 'হোম ভিজিট অ্যাপয়েন্টমেন্ট',\n",
              " 'homeVisitAppointmentSubtitle': 'আপনি ফিক্স টাইপ অ্যাপয়েন্টমেন্ট সহ একটি নির্দিষ্ট সময় এবং পরিষেবা প্রদানকারী নির্বাচন করতে পারেন।',\n",
              " 'inProgress': 'চলমান',\n",
              " 'inProgressSubtitle': 'সম্পূর্ণ হলে এখানে আলতো চাপুন',\n",
              " 'lastName': 'নামের শেষাংশ',\n",
              " 'list': 'তালিকা',\n",
              " 'middleName': 'মধ্য নাম',\n",
              " 'month': 'মাস',\n",
              " 'myList': 'আমার তালিকা',\n",
              " 'myListSubtitle': 'আপনার তালিকা আপডেট রাখুন',\n",
              " 'next': 'পরবর্তী',\n",
              " 'noSlotConfigMessage': 'পরিষেবা প্রদানকারী অ্যাপয়েন্টমেন্ট পরিষেবাগুলি সংজ্ঞায়িত করার প্রক্রিয়ার মধ্যে রয়েছে৷',\n",
              " 'nowServing': 'এখন পরিবেশন করা হচ্ছে',\n",
              " 'onArrival': 'আগমনে',\n",
              " 'order': 'অর্ডার',\n",
              " 'payNow': 'এখন পরিশোধ করুন',\n",
              " 'personalDetails': 'ব্যক্তিগত বিবরণ',\n",
              " 'personalDetailsSubtitle': 'রোগীর বিবরণ লিখুন',\n",
              " 'phoneNumber': 'ফোন নম্বর',\n",
              " 'phoneRequiredMessage': 'একটি ফোন নম্বর লিখুন',\n",
              " 'promoCode': 'প্রচারের কোড (ঐচ্ছিক)',\n",
              " 'requiredFieldMessage': 'ঘরটি অবশ্যই পূরণ করতে হবে',\n",
              " 'selectMember': 'সদস্য নির্বাচন করুন',\n",
              " 'selectMemberSubtitle': 'উপলব্ধ স্লট দেখতে উপলব্ধ সদস্য নির্বাচন করুন',\n",
              " 'selectService': 'পরিষেবা নির্বাচন করুন',\n",
              " 'selectServiceSubtitle': 'নির্দিষ্ট সময়ের অ্যাপয়েন্টমেন্ট',\n",
              " 'selectType': 'প্রকার নির্বাচন করুন',\n",
              " 'selectTypeSubtitle': 'অ্যাপয়েন্টমেন্টের ধরন নির্বাচন করুন',\n",
              " 'serviceProvider': 'সেবা প্রদানকারী',\n",
              " 'shift': 'শিফট',\n",
              " 'shiftCustomer': 'শিফট কাস্টমার',\n",
              " 'startWork': 'কাজ শুরু',\n",
              " 'startWorkSubtitle': 'কাজ শুরু করতে আলতো চাপুন',\n",
              " 'time': 'সময়',\n",
              " 'undo': 'পূর্বাবস্থায় ফেরান',\n",
              " 'update': 'হালনাগাদ',\n",
              " 'view': 'দেখুন',\n",
              " 'viewEdit': 'দেখুন/সম্পাদনা করুন',\n",
              " 'waiting': 'অপেক্ষা করছে',\n",
              " 'week': 'সপ্তাহ'}"
            ]
          },
          "metadata": {},
          "execution_count": 8
        }
      ]
    }
  ]
}